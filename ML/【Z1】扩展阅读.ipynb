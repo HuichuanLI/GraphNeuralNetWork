{
 "cells": [
  {
   "cell_type": "markdown",
   "id": "d0485bbc-46bf-45d4-8835-63094630f272",
   "metadata": {},
   "source": [
    "# 扩展阅读\n",
    "\n",
    "斯坦福大学CS224W图机器学习公开课-同济子豪兄中文精讲\n",
    "\n",
    "同济子豪兄中文精讲-视频链接、中文笔记课件、论文笔记、代码、思考题、扩展阅读、答疑群：https://github.com/TommyZihao/zihao_course/tree/main/CS224W\n",
    "\n",
    "斯坦福官方课程主页：https://web.stanford.edu/class/cs224w\n",
    "\n",
    "推荐代码运行云GPU平台：https://featurize.cn?s=d7ce99f842414bfcaea5662a97581bd1"
   ]
  },
  {
   "cell_type": "markdown",
   "id": "6aee2653-5da5-4f22-b54a-cd46c0780b6e",
   "metadata": {},
   "source": [
    "## 参考资料\n",
    "\n",
    "NetworkX-常用图数据挖掘算法：https://networkx.org/documentation/stable/reference/algorithms/index.html\n",
    "\n",
    "NetworkX-节点重要度算法：https://networkx.org/documentation/stable/reference/algorithms/centrality.html\n",
    "\n",
    "NetworkX-Clustering算法：https://networkx.org/documentation/stable/reference/algorithms/clustering.html\n",
    "\n",
    "NetworkX-最短路径算法：https://networkx.org/documentation/stable/reference/algorithms/shortest_paths.html\n",
    "\n",
    "https://aksakalli.github.io/2017/07/17/network-centrality-measures-and-their-visualization.html#degree-centrality\n",
    "\n",
    "\n",
    "\n"
   ]
  },
  {
   "cell_type": "code",
   "execution_count": null,
   "id": "af0c4284-9ff7-4b02-b77d-9a1b80a92f98",
   "metadata": {},
   "outputs": [],
   "source": []
  }
 ],
 "metadata": {
  "kernelspec": {
   "display_name": "Python 3 (ipykernel)",
   "language": "python",
   "name": "python3"
  },
  "language_info": {
   "codemirror_mode": {
    "name": "ipython",
    "version": 3
   },
   "file_extension": ".py",
   "mimetype": "text/x-python",
   "name": "python",
   "nbconvert_exporter": "python",
   "pygments_lexer": "ipython3",
   "version": "3.7.10"
  }
 },
 "nbformat": 4,
 "nbformat_minor": 5
}
