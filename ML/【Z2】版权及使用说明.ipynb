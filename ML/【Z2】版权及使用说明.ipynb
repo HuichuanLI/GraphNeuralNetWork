{
 "cells": [
  {
   "cell_type": "markdown",
   "id": "60dd0f94-8dbb-4cba-af78-75dff527711f",
   "metadata": {},
   "source": [
    "# 版权及使用说明"
   ]
  },
  {
   "cell_type": "markdown",
   "id": "2920ab95-3c73-4cce-b868-6d0ed9ea9f87",
   "metadata": {},
   "source": [
    "图机器学习系列公开课，作者和版权所有均为张子豪（B站视频专栏：同济子豪兄（https://space.bilibili.com/1900783））。\n",
    "\n",
    "其视频、代码、图像、文档、课件等素材资料，遵循CC BY-NC-SA知识共享协议。\n",
    "\n",
    "任何用途均需遵守中华人民共和国法律法规，并遵守科学道德和学术规范。\n",
    "\n",
    "本教程仅用于教学科普，对于人脸、医疗、无人驾驶等敏感数据和应用场景，请遵守数据使用和隐私规范，不得用于违法犯罪用途，任何使用后果与作者无关。\n",
    "\n",
    "任何商业用途均需张子豪或其代表人书面授权同意。\n",
    "\n",
    "最终解释权归张子豪所有。All Rights Reserved.\n",
    "\n",
    "对其中任何代码、资料和视频的在线观看、下载、查看、运行、使用、修改、编辑、分发、共享，均视作已同意本使用说明。"
   ]
  },
  {
   "cell_type": "code",
   "execution_count": null,
   "id": "7e34f5c5-8e40-4e2e-9374-a8111425564a",
   "metadata": {},
   "outputs": [],
   "source": []
  }
 ],
 "metadata": {
  "kernelspec": {
   "display_name": "Python 3 (ipykernel)",
   "language": "python",
   "name": "python3"
  },
  "language_info": {
   "codemirror_mode": {
    "name": "ipython",
    "version": 3
   },
   "file_extension": ".py",
   "mimetype": "text/x-python",
   "name": "python",
   "nbconvert_exporter": "python",
   "pygments_lexer": "ipython3",
   "version": "3.7.10"
  }
 },
 "nbformat": 4,
 "nbformat_minor": 5
}
