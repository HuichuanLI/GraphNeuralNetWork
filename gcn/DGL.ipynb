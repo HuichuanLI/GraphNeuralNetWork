{
 "cells": [
  {
   "cell_type": "code",
   "execution_count": 1,
   "id": "4476ac9f",
   "metadata": {},
   "outputs": [],
   "source": [
    "import dgl\n",
    "import torch\n",
    "import torch.nn as nn\n",
    "import torch.nn.functional as F"
   ]
  },
  {
   "cell_type": "code",
   "execution_count": 2,
   "id": "dfa84f0e",
   "metadata": {},
   "outputs": [],
   "source": [
    "import dgl.data\n",
    "# networkx\n",
    "\n"
   ]
  },
  {
   "cell_type": "code",
   "execution_count": 3,
   "id": "d3d0b83a",
   "metadata": {},
   "outputs": [
    {
     "name": "stdout",
     "output_type": "stream",
     "text": [
      "Downloading /Users/lhc456/.dgl/cora_v2.zip from https://data.dgl.ai/dataset/cora_v2.zip...\n"
     ]
    },
    {
     "data": {
      "application/vnd.jupyter.widget-view+json": {
       "model_id": "344acd32866b448fbd095d4ec6c2e351",
       "version_major": 2,
       "version_minor": 0
      },
      "text/plain": [
       "/Users/lhc456/.dgl/cora_v2.zip:   0%|          | 0.00/132k [00:00<?, ?B/s]"
      ]
     },
     "metadata": {},
     "output_type": "display_data"
    },
    {
     "name": "stdout",
     "output_type": "stream",
     "text": [
      "Extracting file to /Users/lhc456/.dgl/cora_v2_d697a464\n",
      "Finished data loading and preprocessing.\n",
      "  NumNodes: 2708\n",
      "  NumEdges: 10556\n",
      "  NumFeats: 1433\n",
      "  NumClasses: 7\n",
      "  NumTrainingSamples: 140\n",
      "  NumValidationSamples: 500\n",
      "  NumTestSamples: 1000\n",
      "Done saving data into cached files.\n",
      "Number of categories: 7\n"
     ]
    }
   ],
   "source": [
    "dataset = dgl.data.CoraGraphDataset()\n",
    "print('Number of categories:', dataset.num_classes)"
   ]
  },
  {
   "cell_type": "code",
   "execution_count": 5,
   "id": "0654d164",
   "metadata": {},
   "outputs": [],
   "source": [
    "g = dataset[0]"
   ]
  },
  {
   "cell_type": "code",
   "execution_count": 7,
   "id": "487c99e6",
   "metadata": {},
   "outputs": [
    {
     "name": "stdout",
     "output_type": "stream",
     "text": [
      "Node features\n",
      "{'train_mask': tensor([ True,  True,  True,  ..., False, False, False]), 'val_mask': tensor([False, False, False,  ..., False, False, False]), 'test_mask': tensor([False, False, False,  ...,  True,  True,  True]), 'label': tensor([3, 4, 4,  ..., 3, 3, 3]), 'feat': tensor([[0., 0., 0.,  ..., 0., 0., 0.],\n",
      "        [0., 0., 0.,  ..., 0., 0., 0.],\n",
      "        [0., 0., 0.,  ..., 0., 0., 0.],\n",
      "        ...,\n",
      "        [0., 0., 0.,  ..., 0., 0., 0.],\n",
      "        [0., 0., 0.,  ..., 0., 0., 0.],\n",
      "        [0., 0., 0.,  ..., 0., 0., 0.]])}\n",
      "Edge features\n",
      "{}\n"
     ]
    }
   ],
   "source": [
    "print('Node features')\n",
    "print(g.ndata)\n",
    "print('Edge features')\n",
    "print(g.edata)"
   ]
  },
  {
   "cell_type": "code",
   "execution_count": 6,
   "id": "9c64cb88",
   "metadata": {},
   "outputs": [],
   "source": [
    "from dgl.nn import GraphConv\n",
    "\n",
    "class GCN(nn.Module):\n",
    "    def __init__(self, in_feats, h_feats, num_classes):\n",
    "        super(GCN, self).__init__()\n",
    "        self.conv1 = GraphConv(in_feats, h_feats)\n",
    "        self.conv2 = GraphConv(h_feats, num_classes)\n",
    "    \n",
    "    def forward(self, g, in_feat):\n",
    "        h = self.conv1(g, in_feat)\n",
    "        h = F.relu(h)\n",
    "        h = self.conv2(g, h)\n",
    "        return h\n",
    "    \n",
    "# Create the model with given dimensions\n",
    "model = GCN(g.ndata['feat'].shape[1], 16, dataset.num_classes)"
   ]
  },
  {
   "cell_type": "code",
   "execution_count": 8,
   "id": "66e3d98c",
   "metadata": {},
   "outputs": [
    {
     "name": "stdout",
     "output_type": "stream",
     "text": [
      "In epoch 0, loss: 1.946, val acc: 0.260 (best 0.260), test acc: 0.234 (best 0.234)\n",
      "In epoch 5, loss: 1.893, val acc: 0.592 (best 0.592), test acc: 0.590 (best 0.590)\n",
      "In epoch 10, loss: 1.813, val acc: 0.680 (best 0.682), test acc: 0.701 (best 0.700)\n",
      "In epoch 15, loss: 1.708, val acc: 0.700 (best 0.700), test acc: 0.720 (best 0.720)\n",
      "In epoch 20, loss: 1.579, val acc: 0.722 (best 0.722), test acc: 0.738 (best 0.738)\n",
      "In epoch 25, loss: 1.429, val acc: 0.740 (best 0.740), test acc: 0.751 (best 0.750)\n",
      "In epoch 30, loss: 1.263, val acc: 0.748 (best 0.750), test acc: 0.742 (best 0.747)\n",
      "In epoch 35, loss: 1.091, val acc: 0.758 (best 0.764), test acc: 0.744 (best 0.743)\n",
      "In epoch 40, loss: 0.922, val acc: 0.760 (best 0.764), test acc: 0.747 (best 0.743)\n",
      "In epoch 45, loss: 0.765, val acc: 0.770 (best 0.770), test acc: 0.749 (best 0.749)\n",
      "In epoch 50, loss: 0.627, val acc: 0.770 (best 0.770), test acc: 0.756 (best 0.749)\n",
      "In epoch 55, loss: 0.509, val acc: 0.774 (best 0.774), test acc: 0.760 (best 0.760)\n",
      "In epoch 60, loss: 0.413, val acc: 0.776 (best 0.776), test acc: 0.763 (best 0.762)\n",
      "In epoch 65, loss: 0.335, val acc: 0.776 (best 0.778), test acc: 0.766 (best 0.763)\n",
      "In epoch 70, loss: 0.273, val acc: 0.772 (best 0.778), test acc: 0.767 (best 0.763)\n",
      "In epoch 75, loss: 0.224, val acc: 0.772 (best 0.778), test acc: 0.769 (best 0.763)\n",
      "In epoch 80, loss: 0.185, val acc: 0.774 (best 0.778), test acc: 0.769 (best 0.763)\n",
      "In epoch 85, loss: 0.155, val acc: 0.776 (best 0.778), test acc: 0.772 (best 0.763)\n",
      "In epoch 90, loss: 0.130, val acc: 0.776 (best 0.778), test acc: 0.775 (best 0.763)\n",
      "In epoch 95, loss: 0.111, val acc: 0.776 (best 0.778), test acc: 0.777 (best 0.763)\n"
     ]
    }
   ],
   "source": [
    "def train(g, model):\n",
    "    optimizer = torch.optim.Adam(model.parameters(), lr=0.01)\n",
    "    best_val_acc = 0\n",
    "    best_test_acc = 0\n",
    "\n",
    "    features = g.ndata['feat']\n",
    "    labels = g.ndata['label']\n",
    "    train_mask = g.ndata['train_mask']\n",
    "    val_mask = g.ndata['val_mask']\n",
    "    test_mask = g.ndata['test_mask']\n",
    "    for e in range(100):\n",
    "        # Forward\n",
    "        logits = model(g, features)\n",
    "\n",
    "        # Compute prediction\n",
    "        pred = logits.argmax(1)\n",
    "\n",
    "        # Compute loss\n",
    "        # Note that you should only compute the losses of the nodes in the training set.\n",
    "        loss = F.cross_entropy(logits[train_mask], labels[train_mask])\n",
    "\n",
    "        # Compute accuracy on training/validation/test\n",
    "        train_acc = (pred[train_mask] == labels[train_mask]).float().mean()\n",
    "        val_acc = (pred[val_mask] == labels[val_mask]).float().mean()\n",
    "        test_acc = (pred[test_mask] == labels[test_mask]).float().mean()\n",
    "\n",
    "        # Save the best validation accuracy and the corresponding test accuracy.\n",
    "        if best_val_acc < val_acc:\n",
    "            best_val_acc = val_acc\n",
    "            best_test_acc = test_acc\n",
    "\n",
    "        # Backward\n",
    "        optimizer.zero_grad()\n",
    "        loss.backward()\n",
    "        optimizer.step()\n",
    "\n",
    "        if e % 5 == 0:\n",
    "            print('In epoch {}, loss: {:.3f}, val acc: {:.3f} (best {:.3f}), test acc: {:.3f} (best {:.3f})'.format(\n",
    "                e, loss, val_acc, best_val_acc, test_acc, best_test_acc))\n",
    "model = GCN(g.ndata['feat'].shape[1], 16, dataset.num_classes)\n",
    "train(g, model)"
   ]
  },
  {
   "cell_type": "code",
   "execution_count": 9,
   "id": "8fa95936",
   "metadata": {},
   "outputs": [],
   "source": [
    "import dgl\n",
    "import numpy as np\n",
    "import torch\n",
    "\n",
    "g = dgl.graph(([0, 0, 0, 0, 0], [1, 2, 3, 4, 5]), num_nodes=6)\n",
    "# Equivalently, PyTorch LongTensors also work.\n",
    "g = dgl.graph((torch.LongTensor([0, 0, 0, 0, 0]), torch.LongTensor([1, 2, 3, 4, 5])), num_nodes=6)\n",
    "\n",
    "# You can omit the number of nodes argument if you can tell the number of nodes from the edge list alone.\n",
    "g = dgl.graph(([0, 0, 0, 0, 0], [1, 2, 3, 4, 5]))"
   ]
  },
  {
   "cell_type": "code",
   "execution_count": null,
   "id": "4220588b",
   "metadata": {},
   "outputs": [],
   "source": []
  }
 ],
 "metadata": {
  "kernelspec": {
   "display_name": "Python 3 (ipykernel)",
   "language": "python",
   "name": "python3"
  },
  "language_info": {
   "codemirror_mode": {
    "name": "ipython",
    "version": 3
   },
   "file_extension": ".py",
   "mimetype": "text/x-python",
   "name": "python",
   "nbconvert_exporter": "python",
   "pygments_lexer": "ipython3",
   "version": "3.10.9"
  }
 },
 "nbformat": 4,
 "nbformat_minor": 5
}
